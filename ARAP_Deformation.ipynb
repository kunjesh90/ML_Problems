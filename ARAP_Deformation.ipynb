{
 "cells": [
  {
   "cell_type": "code",
   "execution_count": 5,
   "id": "d72bf28c-8a64-4df3-86cf-b5ab2e00f190",
   "metadata": {},
   "outputs": [],
   "source": [
    "import igl\n",
    "import numpy as np\n",
    "from gpytoolbox import cotangent_laplacian\n",
    "from scipy.sparse import csr_matrix\n",
    "from scipy.sparse.linalg import spsolve\n",
    "from meshplot import plot, subplot, interact"
   ]
  },
  {
   "cell_type": "code",
   "execution_count": 6,
   "id": "66649dbc-d55b-44f6-8e26-b38ab8e09c80",
   "metadata": {},
   "outputs": [
    {
     "name": "stdout",
     "output_type": "stream",
     "text": [
      "620\n",
      "1236\n"
     ]
    },
    {
     "data": {
      "application/vnd.jupyter.widget-view+json": {
       "model_id": "336826b031024ecab0dc139b6df21b98",
       "version_major": 2,
       "version_minor": 0
      },
      "text/plain": [
       "Renderer(camera=PerspectiveCamera(children=(DirectionalLight(color='white', intensity=0.6, position=(0.4999655…"
      ]
     },
     "metadata": {},
     "output_type": "display_data"
    },
    {
     "data": {
      "text/plain": [
       "<meshplot.Viewer.Viewer at 0x1d8dba83e90>"
      ]
     },
     "execution_count": 6,
     "metadata": {},
     "output_type": "execute_result"
    }
   ],
   "source": [
    "#V, F = igl.read_triangle_mesh(\"bar1.off\")\n",
    "V, F = igl.read_triangle_mesh(\"Meshes_ARAP_SorkineAlexa_2007/Meshes_ARAP_SA2007/cactus_small.off\")\n",
    "\n",
    "print(len(V))\n",
    "print(len(F))\n",
    "plot(V,F)"
   ]
  },
  {
   "cell_type": "code",
   "execution_count": 7,
   "id": "9f063db6-ccae-4877-93b9-59bc16bc3c07",
   "metadata": {},
   "outputs": [],
   "source": [
    "L = cotangent_laplacian(V, F)"
   ]
  },
  {
   "cell_type": "code",
   "execution_count": 8,
   "id": "2937eeda-6794-45df-9551-2ab404d73865",
   "metadata": {},
   "outputs": [
    {
     "name": "stdout",
     "output_type": "stream",
     "text": [
      "[0.51321697 0.45633    0.582147  ]\n",
      "[2. 1. 0.]\n"
     ]
    }
   ],
   "source": [
    "fixed_vertex_index = 0\n",
    "fixed_vertex_position = V[fixed_vertex_index, :]\n",
    "print(fixed_vertex_position)\n",
    "\n",
    "target_vertex_index =5\n",
    "target_position = np.array([2.0, 1.0, 0.0])\n",
    "\n",
    "print(target_position)"
   ]
  },
  {
   "cell_type": "code",
   "execution_count": 9,
   "id": "36a5955b-54ca-41eb-9280-84a97580ed17",
   "metadata": {},
   "outputs": [
    {
     "name": "stdout",
     "output_type": "stream",
     "text": [
      "[0 5]\n",
      "[[0.51321697 0.45633    0.582147  ]\n",
      " [2.         1.         0.        ]]\n"
     ]
    }
   ],
   "source": [
    "# Boundary conditions : Create a list of indices to fix & matrix of target positions for those vertices\n",
    "boundary_conditions = {fixed_vertex_index: fixed_vertex_position,\n",
    "                       target_vertex_index: target_position}\n",
    "\n",
    "fixed_indices = np.array(list(boundary_conditions.keys()))\n",
    "fixed_positions = np.array([boundary_conditions[i] for i in fixed_indices])\n",
    "print(fixed_indices)\n",
    "print(fixed_positions)"
   ]
  },
  {
   "cell_type": "code",
   "execution_count": 10,
   "id": "6b937722-d6d8-4f60-ada4-647a382e5e35",
   "metadata": {},
   "outputs": [],
   "source": [
    "#Initialize a default deformed vertices\n",
    "deformedV = V.copy()"
   ]
  },
  {
   "cell_type": "code",
   "execution_count": 11,
   "id": "afa035b3-0da9-45de-b6ac-2abd4ed19605",
   "metadata": {},
   "outputs": [
    {
     "name": "stderr",
     "output_type": "stream",
     "text": [
      "D:\\Anaconda\\Lib\\site-packages\\scipy\\sparse\\_index.py:143: SparseEfficiencyWarning: Changing the sparsity structure of a csr_matrix is expensive. lil_matrix is more efficient.\n",
      "  self._set_arrayXarray(i, j, x)\n"
     ]
    }
   ],
   "source": [
    "max_iterations = 10\n",
    "\n",
    "for iter in range(max_iterations):\n",
    "    # Step 1: Compute local rotations\n",
    "    for i in range(V.shape[0]):\n",
    "        # Compute the neighborhood matrix S\n",
    "        # For simplicity, let's assume we are using the Laplacian's neighbors\n",
    "        neighbors = F[np.any(F == i, axis=1)]\n",
    "        S = deformedV[neighbors[:, 1:], :] - deformedV[i, :]\n",
    "\n",
    "        # Check if S is rank deficient\n",
    "        if S.shape[0] < 3 or S.shape[1] < 3:\n",
    "            continue  # Skip this vertex if S is too small\n",
    "            \n",
    "        # SVD decomposition of S\n",
    "        U, D, Vh = np.linalg.svd(S)\n",
    "        \n",
    "        # Ensure that U and Vh have the correct dimensions (3x3)\n",
    "        if U.shape[1] == 3 and Vh.shape[0] == 3:\n",
    "            R = U @ Vh\n",
    "        else:\n",
    "            R = np.eye(3)  # In case of degenerate cases, set R to identity\n",
    "        \n",
    "        #R = U @ Vh.T\n",
    "        \n",
    "        # Update the position with rotation (this is simplified, normally we'd calculate energy minimization)\n",
    "        deformedV[i, :] = np.dot(R, V[i, :].T).T\n",
    "    \n",
    "    # Step 2: Solve the linear system to find the new positions\n",
    "    RHS = -L @ deformedV\n",
    "    RHS[fixed_indices, :] = fixed_positions\n",
    "    L[fixed_indices, :] = 0\n",
    "    L[fixed_indices, fixed_indices] = 1\n",
    "\n",
    "    # Solve the system\n",
    "    deformedV = spsolve(csr_matrix(L), RHS)"
   ]
  },
  {
   "cell_type": "code",
   "execution_count": 12,
   "id": "c1e39498-3a86-40aa-ab4c-05a36ee2f719",
   "metadata": {},
   "outputs": [
    {
     "data": {
      "application/vnd.jupyter.widget-view+json": {
       "model_id": "476166ecadba4882a4c8e3664f18d121",
       "version_major": 2,
       "version_minor": 0
      },
      "text/plain": [
       "Renderer(camera=PerspectiveCamera(children=(DirectionalLight(color='white', intensity=0.6, position=(1.2566084…"
      ]
     },
     "metadata": {},
     "output_type": "display_data"
    },
    {
     "data": {
      "text/plain": [
       "<meshplot.Viewer.Viewer at 0x1d8dbad2310>"
      ]
     },
     "execution_count": 12,
     "metadata": {},
     "output_type": "execute_result"
    }
   ],
   "source": [
    "plot(deformedV,F)"
   ]
  },
  {
   "cell_type": "code",
   "execution_count": null,
   "id": "0d263d8d-1571-47ae-8a6b-473822dfa437",
   "metadata": {},
   "outputs": [],
   "source": [
    "# Save the ARAP deformed mesh\n",
    "igl.write_triangle_mesh(\"bar1_arap_deformed.off\", deformedV, F)"
   ]
  }
 ],
 "metadata": {
  "kernelspec": {
   "display_name": "Python 3",
   "language": "python",
   "name": "python3"
  },
  "language_info": {
   "codemirror_mode": {
    "name": "ipython",
    "version": 3
   },
   "file_extension": ".py",
   "mimetype": "text/x-python",
   "name": "python",
   "nbconvert_exporter": "python",
   "pygments_lexer": "ipython3",
   "version": "3.11.7"
  }
 },
 "nbformat": 4,
 "nbformat_minor": 5
}

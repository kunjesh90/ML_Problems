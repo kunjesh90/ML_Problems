{
 "cells": [
  {
   "cell_type": "code",
   "execution_count": null,
   "metadata": {
    "_cell_guid": "b1076dfc-b9ad-4769-8c92-a6c4dae69d19",
    "_uuid": "8f2839f25d086af736a60e9eeb907d3b93b6e0e5"
   },
   "outputs": [],
   "source": [
    "# This Python 3 environment comes with many helpful analytics libraries installed\n",
    "# It is defined by the kaggle/python Docker image: https://github.com/kaggle/docker-python\n",
    "# For example, here's several helpful packages to load\n",
    "\n",
    "import numpy as np # linear algebra\n",
    "import pandas as pd # data processing, CSV file I/O (e.g. pd.read_csv)\n",
    "\n",
    "# Input data files are available in the read-only \"../input/\" directory\n",
    "# For example, running this (by clicking run or pressing Shift+Enter) will list all files under the input directory\n",
    "\n",
    "import os\n",
    "for dirname, _, filenames in os.walk('/kaggle/input'):\n",
    "    for filename in filenames:\n",
    "        print(os.path.join(dirname, filename))\n",
    "\n",
    "# You can write up to 5GB to the current directory (/kaggle/working/) that gets preserved as output when you create a version using \"Save & Run All\" \n",
    "# You can also write temporary files to /kaggle/temp/, but they won't be saved outside of the current session"
   ]
  },
  {
   "cell_type": "code",
   "execution_count": null,
   "metadata": {
    "_cell_guid": "79c7e3d0-c299-4dcb-8224-4455121ee9b0",
    "_uuid": "d629ff2d2480ee46fbb7e2d37f6b5fab8052498a"
   },
   "outputs": [],
   "source": [
    "import warnings\n",
    "warnings.simplefilter(\"ignore\")\n",
    "#import tensorflow as tf"
   ]
  },
  {
   "cell_type": "code",
   "execution_count": null,
   "metadata": {},
   "outputs": [],
   "source": [
    "train_features = pd.read_csv('../input/lish-moa/train_features.csv')\n",
    "train_targets = pd.read_csv('../input/lish-moa/train_targets_scored.csv')\n",
    "test_features = pd.read_csv('../input/lish-moa/test_features.csv')\n",
    "\n",
    "ss_krr = pd.read_csv('../input/lish-moa/sample_submission.csv')"
   ]
  },
  {
   "cell_type": "code",
   "execution_count": null,
   "metadata": {},
   "outputs": [],
   "source": [
    "train_features_final=pd.concat([pd.get_dummies(train_features.iloc[:,1:4]),train_features.iloc[:,4:]],axis=1)\n",
    "#print(train_features_final)\n",
    "test_features_final=pd.concat([pd.get_dummies(test_features.iloc[:,1:4]),test_features.iloc[:,4:]],axis=1)\n",
    "test_features_final"
   ]
  },
  {
   "cell_type": "code",
   "execution_count": null,
   "metadata": {},
   "outputs": [],
   "source": [
    "train_features_final1=(train_features_final-train_features_final.mean())/train_features_final.std()\n",
    "test_features_final1=(test_features_final-test_features_final.mean())/test_features_final.std()"
   ]
  },
  {
   "cell_type": "code",
   "execution_count": null,
   "metadata": {},
   "outputs": [],
   "source": [
    "combined_pca=pd.concat([train_features_final1.iloc[:,5:],test_features_final1.iloc[:,5:]],axis=0).reset_index().iloc[:,1:]"
   ]
  },
  {
   "cell_type": "code",
   "execution_count": null,
   "metadata": {},
   "outputs": [],
   "source": [
    "#from 23814: test data\n",
    "combined_pca"
   ]
  },
  {
   "cell_type": "code",
   "execution_count": null,
   "metadata": {},
   "outputs": [],
   "source": [
    "from sklearn.decomposition import PCA\n",
    "pca_combined = PCA(n_components=400)\n",
    "principalComponents = pca_combined.fit_transform(combined_pca)\n",
    "print(principalComponents.shape)\n",
    "pca_combined.explained_variance_ratio_.sum()\n"
   ]
  },
  {
   "cell_type": "code",
   "execution_count": null,
   "metadata": {},
   "outputs": [],
   "source": [
    "principalComponents_train=pd.DataFrame(principalComponents[:23814,:])\n",
    "principalComponents_test=pd.DataFrame(principalComponents[23814:,:])\n",
    "#principalComponents_test.columns==principalComponents_train.columns\n",
    "principalComponents_test"
   ]
  },
  {
   "cell_type": "code",
   "execution_count": null,
   "metadata": {},
   "outputs": [],
   "source": [
    "train_pca=pd.concat([train_features_final1.iloc[:,0:5],principalComponents_train],axis=1)\n",
    "test_pca=pd.concat([test_features_final1.iloc[:,0:5],principalComponents_test],axis=1)"
   ]
  },
  {
   "cell_type": "code",
   "execution_count": null,
   "metadata": {},
   "outputs": [],
   "source": [
    "train_targets.iloc[:,0:2]"
   ]
  },
  {
   "cell_type": "code",
   "execution_count": null,
   "metadata": {},
   "outputs": [],
   "source": [
    "ans_df=pd.DataFrame()\n",
    "\n",
    "from sklearn.model_selection import train_test_split\n",
    "import tensorflow as tf\n",
    "from tensorflow import keras\n",
    "\n",
    "for i in range(len(train_targets.columns)-1):\n",
    "\n",
    "    X_train, X_test, y_train, y_test = train_test_split(train_pca,train_targets.iloc[:,i+1], test_size=0.03)\n",
    "\n",
    "\n",
    "    model = keras.Sequential([\n",
    "    \n",
    "        keras.layers.Dense(256, activation='relu',input_shape=[len(X_train.columns)]),\n",
    "        keras.layers.Dense(128, activation='relu',input_shape=[len(X_train.columns)]),\n",
    "        keras.layers.Dense(64, activation='relu',input_shape=[len(X_train.columns)]),\n",
    "        keras.layers.Dense(32, activation='relu',input_shape=[len(X_train.columns)]),\n",
    "        keras.layers.Dense(16, activation='relu',input_shape=[len(X_train.columns)]),\n",
    "        keras.layers.Dense(8, activation='relu',input_shape=[len(X_train.columns)]),\n",
    "        keras.layers.Dense(2)\n",
    "    ])\n",
    "\n",
    "    #model.summary()\n",
    "\n",
    "    model.compile(optimizer='adam',\n",
    "                  loss=tf.keras.losses.SparseCategoricalCrossentropy(from_logits=True),metrics=['accuracy'])\n",
    "    model.fit(X_train, y_train, epochs=50)\n",
    "\n",
    "    probability_model = tf.keras.Sequential([model,tf.keras.layers.Softmax()])\n",
    "\n",
    "    predictions = probability_model.predict(test_pca)\n",
    "    ans_df=pd.concat([ans_df,pd.DataFrame(predictions[:,1])],axis=1)\n"
   ]
  },
  {
   "cell_type": "code",
   "execution_count": null,
   "metadata": {},
   "outputs": [],
   "source": [
    "ans_df"
   ]
  },
  {
   "cell_type": "code",
   "execution_count": null,
   "metadata": {},
   "outputs": [],
   "source": [
    "'''\n",
    "#Logit\n",
    "from sklearn.linear_model import LogisticRegression\n",
    "lr = LogisticRegression(class_weight=\"balanced\")\n",
    "final_ans=pd.DataFrame()\n",
    "#train_targets.iloc[:,1]\n",
    "for i in range(len(train_targets.columns)-1):\n",
    "#    train_targets.iloc[:,i+1]\n",
    "    lr.fit(train_features_final1, train_targets.iloc[:,i+1])\n",
    "    y_pred = lr.predict_proba(test_features_final1)\n",
    "    final_ans=pd.concat([final_ans,pd.DataFrame(y_pred).iloc[:,1]],axis=1)\n",
    "    #print(i)\n",
    "    \n",
    "'''"
   ]
  },
  {
   "cell_type": "code",
   "execution_count": null,
   "metadata": {},
   "outputs": [],
   "source": [
    "#final_ans[final_ans<0.005]=0\n",
    "#final_ans"
   ]
  },
  {
   "cell_type": "code",
   "execution_count": null,
   "metadata": {},
   "outputs": [],
   "source": [
    "final_ans1=pd.concat([ss_krr.sig_id,ans_df],axis=1)"
   ]
  },
  {
   "cell_type": "code",
   "execution_count": null,
   "metadata": {},
   "outputs": [],
   "source": [
    "final_ans1.columns=ss_krr.columns"
   ]
  },
  {
   "cell_type": "code",
   "execution_count": null,
   "metadata": {},
   "outputs": [],
   "source": [
    "final_ans1"
   ]
  },
  {
   "cell_type": "code",
   "execution_count": null,
   "metadata": {},
   "outputs": [],
   "source": [
    "final_ans1.to_csv('./submission.csv',index=False)"
   ]
  },
  {
   "cell_type": "code",
   "execution_count": null,
   "metadata": {},
   "outputs": [],
   "source": [
    "df=pd.read_csv(\"submission.csv\")\n",
    "print(df.shape)\n",
    "df.head()"
   ]
  }
 ],
 "metadata": {
  "kernelspec": {
   "display_name": "Python 3",
   "language": "python",
   "name": "python3"
  },
  "language_info": {
   "codemirror_mode": {
    "name": "ipython",
    "version": 3
   },
   "file_extension": ".py",
   "mimetype": "text/x-python",
   "name": "python",
   "nbconvert_exporter": "python",
   "pygments_lexer": "ipython3",
   "version": "3.7.4"
  }
 },
 "nbformat": 4,
 "nbformat_minor": 4
}
